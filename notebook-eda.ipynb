{
   "cells": [
      {
         "cell_type": "code",
         "execution_count": 1,
         "metadata": {},
         "outputs": [],
         "source": [
            "import os\n",
            "import gdown\n",
            "from src import config\n",
            "import seaborn as sns\n",
            "import matplotlib.pyplot as plt\n",
            "import pyarrow.parquet as pq\n",
            "from sklearn import datasets\n",
            "import pandas as pd\n",
            "import numpy as np\n"
         ]
      },
      {
         "cell_type": "markdown",
         "metadata": {},
         "source": [
            "## Data Download"
         ]
      },
      {
         "cell_type": "code",
         "execution_count": 2,
         "metadata": {},
         "outputs": [],
         "source": [
            "if not os.path.exists(config.DATASET_TRAIN):\n",
            "    gdown.download(config.DATASET_TRAIN_URL, config.DATASET_TRAIN, quiet=False)"
         ]
      },
      {
         "cell_type": "code",
         "execution_count": 3,
         "metadata": {},
         "outputs": [],
         "source": [
            "trips = pq.read_table(config.DATASET_TRAIN)\n",
            "trips = trips.to_pandas()"
         ]
      },
      {
         "cell_type": "code",
         "execution_count": 4,
         "metadata": {},
         "outputs": [
            {
               "data": {
                  "text/html": [
                     "<div>\n",
                     "<style scoped>\n",
                     "    .dataframe tbody tr th:only-of-type {\n",
                     "        vertical-align: middle;\n",
                     "    }\n",
                     "\n",
                     "    .dataframe tbody tr th {\n",
                     "        vertical-align: top;\n",
                     "    }\n",
                     "\n",
                     "    .dataframe thead th {\n",
                     "        text-align: right;\n",
                     "    }\n",
                     "</style>\n",
                     "<table border=\"1\" class=\"dataframe\">\n",
                     "  <thead>\n",
                     "    <tr style=\"text-align: right;\">\n",
                     "      <th></th>\n",
                     "      <th>VendorID</th>\n",
                     "      <th>tpep_pickup_datetime</th>\n",
                     "      <th>tpep_dropoff_datetime</th>\n",
                     "      <th>passenger_count</th>\n",
                     "      <th>trip_distance</th>\n",
                     "      <th>RatecodeID</th>\n",
                     "      <th>store_and_fwd_flag</th>\n",
                     "      <th>PULocationID</th>\n",
                     "      <th>DOLocationID</th>\n",
                     "      <th>payment_type</th>\n",
                     "      <th>fare_amount</th>\n",
                     "      <th>extra</th>\n",
                     "      <th>mta_tax</th>\n",
                     "      <th>tip_amount</th>\n",
                     "      <th>tolls_amount</th>\n",
                     "      <th>improvement_surcharge</th>\n",
                     "      <th>total_amount</th>\n",
                     "      <th>congestion_surcharge</th>\n",
                     "      <th>airport_fee</th>\n",
                     "    </tr>\n",
                     "  </thead>\n",
                     "  <tbody>\n",
                     "    <tr>\n",
                     "      <th>0</th>\n",
                     "      <td>1</td>\n",
                     "      <td>2022-05-01 00:00:36</td>\n",
                     "      <td>2022-05-01 00:19:18</td>\n",
                     "      <td>1.0</td>\n",
                     "      <td>4.1</td>\n",
                     "      <td>1.0</td>\n",
                     "      <td>N</td>\n",
                     "      <td>246</td>\n",
                     "      <td>151</td>\n",
                     "      <td>2</td>\n",
                     "      <td>17.0</td>\n",
                     "      <td>3.0</td>\n",
                     "      <td>0.5</td>\n",
                     "      <td>0.00</td>\n",
                     "      <td>0.0</td>\n",
                     "      <td>0.3</td>\n",
                     "      <td>20.80</td>\n",
                     "      <td>2.5</td>\n",
                     "      <td>0.0</td>\n",
                     "    </tr>\n",
                     "    <tr>\n",
                     "      <th>1</th>\n",
                     "      <td>1</td>\n",
                     "      <td>2022-05-01 00:27:44</td>\n",
                     "      <td>2022-05-01 00:41:33</td>\n",
                     "      <td>1.0</td>\n",
                     "      <td>2.3</td>\n",
                     "      <td>1.0</td>\n",
                     "      <td>N</td>\n",
                     "      <td>238</td>\n",
                     "      <td>74</td>\n",
                     "      <td>2</td>\n",
                     "      <td>11.0</td>\n",
                     "      <td>3.0</td>\n",
                     "      <td>0.5</td>\n",
                     "      <td>0.00</td>\n",
                     "      <td>0.0</td>\n",
                     "      <td>0.3</td>\n",
                     "      <td>14.80</td>\n",
                     "      <td>2.5</td>\n",
                     "      <td>0.0</td>\n",
                     "    </tr>\n",
                     "    <tr>\n",
                     "      <th>2</th>\n",
                     "      <td>1</td>\n",
                     "      <td>2022-05-01 00:59:00</td>\n",
                     "      <td>2022-05-01 01:14:22</td>\n",
                     "      <td>1.0</td>\n",
                     "      <td>4.2</td>\n",
                     "      <td>1.0</td>\n",
                     "      <td>N</td>\n",
                     "      <td>163</td>\n",
                     "      <td>260</td>\n",
                     "      <td>2</td>\n",
                     "      <td>15.5</td>\n",
                     "      <td>3.0</td>\n",
                     "      <td>0.5</td>\n",
                     "      <td>0.00</td>\n",
                     "      <td>0.0</td>\n",
                     "      <td>0.3</td>\n",
                     "      <td>19.30</td>\n",
                     "      <td>2.5</td>\n",
                     "      <td>0.0</td>\n",
                     "    </tr>\n",
                     "    <tr>\n",
                     "      <th>3</th>\n",
                     "      <td>1</td>\n",
                     "      <td>2022-05-01 00:48:18</td>\n",
                     "      <td>2022-05-01 01:28:02</td>\n",
                     "      <td>1.0</td>\n",
                     "      <td>0.0</td>\n",
                     "      <td>1.0</td>\n",
                     "      <td>N</td>\n",
                     "      <td>79</td>\n",
                     "      <td>182</td>\n",
                     "      <td>1</td>\n",
                     "      <td>41.2</td>\n",
                     "      <td>0.0</td>\n",
                     "      <td>0.5</td>\n",
                     "      <td>0.00</td>\n",
                     "      <td>0.0</td>\n",
                     "      <td>0.3</td>\n",
                     "      <td>42.00</td>\n",
                     "      <td>0.0</td>\n",
                     "      <td>0.0</td>\n",
                     "    </tr>\n",
                     "    <tr>\n",
                     "      <th>4</th>\n",
                     "      <td>1</td>\n",
                     "      <td>2022-05-01 00:28:26</td>\n",
                     "      <td>2022-05-01 00:37:49</td>\n",
                     "      <td>1.0</td>\n",
                     "      <td>1.6</td>\n",
                     "      <td>1.0</td>\n",
                     "      <td>N</td>\n",
                     "      <td>238</td>\n",
                     "      <td>75</td>\n",
                     "      <td>1</td>\n",
                     "      <td>7.5</td>\n",
                     "      <td>3.0</td>\n",
                     "      <td>0.5</td>\n",
                     "      <td>2.25</td>\n",
                     "      <td>0.0</td>\n",
                     "      <td>0.3</td>\n",
                     "      <td>13.55</td>\n",
                     "      <td>2.5</td>\n",
                     "      <td>0.0</td>\n",
                     "    </tr>\n",
                     "  </tbody>\n",
                     "</table>\n",
                     "</div>"
                  ],
                  "text/plain": [
                     "   VendorID tpep_pickup_datetime tpep_dropoff_datetime  passenger_count   \n",
                     "0         1  2022-05-01 00:00:36   2022-05-01 00:19:18              1.0  \\\n",
                     "1         1  2022-05-01 00:27:44   2022-05-01 00:41:33              1.0   \n",
                     "2         1  2022-05-01 00:59:00   2022-05-01 01:14:22              1.0   \n",
                     "3         1  2022-05-01 00:48:18   2022-05-01 01:28:02              1.0   \n",
                     "4         1  2022-05-01 00:28:26   2022-05-01 00:37:49              1.0   \n",
                     "\n",
                     "   trip_distance  RatecodeID store_and_fwd_flag  PULocationID  DOLocationID   \n",
                     "0            4.1         1.0                  N           246           151  \\\n",
                     "1            2.3         1.0                  N           238            74   \n",
                     "2            4.2         1.0                  N           163           260   \n",
                     "3            0.0         1.0                  N            79           182   \n",
                     "4            1.6         1.0                  N           238            75   \n",
                     "\n",
                     "   payment_type  fare_amount  extra  mta_tax  tip_amount  tolls_amount   \n",
                     "0             2         17.0    3.0      0.5        0.00           0.0  \\\n",
                     "1             2         11.0    3.0      0.5        0.00           0.0   \n",
                     "2             2         15.5    3.0      0.5        0.00           0.0   \n",
                     "3             1         41.2    0.0      0.5        0.00           0.0   \n",
                     "4             1          7.5    3.0      0.5        2.25           0.0   \n",
                     "\n",
                     "   improvement_surcharge  total_amount  congestion_surcharge  airport_fee  \n",
                     "0                    0.3         20.80                   2.5          0.0  \n",
                     "1                    0.3         14.80                   2.5          0.0  \n",
                     "2                    0.3         19.30                   2.5          0.0  \n",
                     "3                    0.3         42.00                   0.0          0.0  \n",
                     "4                    0.3         13.55                   2.5          0.0  "
                  ]
               },
               "execution_count": 4,
               "metadata": {},
               "output_type": "execute_result"
            }
         ],
         "source": [
            "# Visualization of the data of the first 5 rows\n",
            "trips.head()"
         ]
      },
      {
         "cell_type": "code",
         "execution_count": 5,
         "metadata": {},
         "outputs": [
            {
               "name": "stdout",
               "output_type": "stream",
               "text": [
                  "<class 'pandas.core.frame.DataFrame'>\n",
                  "RangeIndex: 3588295 entries, 0 to 3588294\n",
                  "Data columns (total 19 columns):\n",
                  " #   Column                 Dtype         \n",
                  "---  ------                 -----         \n",
                  " 0   VendorID               int64         \n",
                  " 1   tpep_pickup_datetime   datetime64[us]\n",
                  " 2   tpep_dropoff_datetime  datetime64[us]\n",
                  " 3   passenger_count        float64       \n",
                  " 4   trip_distance          float64       \n",
                  " 5   RatecodeID             float64       \n",
                  " 6   store_and_fwd_flag     object        \n",
                  " 7   PULocationID           int64         \n",
                  " 8   DOLocationID           int64         \n",
                  " 9   payment_type           int64         \n",
                  " 10  fare_amount            float64       \n",
                  " 11  extra                  float64       \n",
                  " 12  mta_tax                float64       \n",
                  " 13  tip_amount             float64       \n",
                  " 14  tolls_amount           float64       \n",
                  " 15  improvement_surcharge  float64       \n",
                  " 16  total_amount           float64       \n",
                  " 17  congestion_surcharge   float64       \n",
                  " 18  airport_fee            float64       \n",
                  "dtypes: datetime64[us](2), float64(12), int64(4), object(1)\n",
                  "memory usage: 520.2+ MB\n"
               ]
            }
         ],
         "source": [
            "# Show info about the data type of every column\n",
            "trips.info()"
         ]
      },
      {
         "cell_type": "code",
         "execution_count": 6,
         "metadata": {},
         "outputs": [
            {
               "data": {
                  "text/plain": [
                     "VendorID                      0\n",
                     "tpep_pickup_datetime          0\n",
                     "tpep_dropoff_datetime         0\n",
                     "passenger_count          129524\n",
                     "trip_distance                 0\n",
                     "RatecodeID               129524\n",
                     "store_and_fwd_flag       129524\n",
                     "PULocationID                  0\n",
                     "DOLocationID                  0\n",
                     "payment_type                  0\n",
                     "fare_amount                   0\n",
                     "extra                         0\n",
                     "mta_tax                       0\n",
                     "tip_amount                    0\n",
                     "tolls_amount                  0\n",
                     "improvement_surcharge         0\n",
                     "total_amount                  0\n",
                     "congestion_surcharge     129524\n",
                     "airport_fee              129524\n",
                     "dtype: int64"
                  ]
               },
               "execution_count": 6,
               "metadata": {},
               "output_type": "execute_result"
            }
         ],
         "source": [
            "# Check for missing values for each column\n",
            "trips.isnull().sum()"
         ]
      },
      {
         "cell_type": "markdown",
         "metadata": {},
         "source": [
            "## Understanding columns with discrete data (limited to a few unique values)"
         ]
      },
      {
         "cell_type": "code",
         "execution_count": 99,
         "metadata": {},
         "outputs": [
            {
               "data": {
                  "text/plain": [
                     "passenger_count\n",
                     "1.0    2549880\n",
                     "2.0     539027\n",
                     "3.0     136997\n",
                     "0.0      73587\n",
                     "5.0      61209\n",
                     "4.0      56092\n",
                     "6.0      41948\n",
                     "7.0         15\n",
                     "8.0         14\n",
                     "9.0          2\n",
                     "Name: count, dtype: int64"
                  ]
               },
               "execution_count": 99,
               "metadata": {},
               "output_type": "execute_result"
            }
         ],
         "source": [
            "trips.passenger_count.value_counts()\n"
         ]
      },
      {
         "cell_type": "code",
         "execution_count": 100,
         "metadata": {},
         "outputs": [
            {
               "data": {
                  "text/plain": [
                     "airport_fee\n",
                     " 0.00    3175153\n",
                     " 1.25     281317\n",
                     "-1.25       2301\n",
                     "Name: count, dtype: int64"
                  ]
               },
               "execution_count": 100,
               "metadata": {},
               "output_type": "execute_result"
            }
         ],
         "source": [
            "trips.airport_fee.value_counts()\n"
         ]
      },
      {
         "cell_type": "code",
         "execution_count": 101,
         "metadata": {},
         "outputs": [
            {
               "data": {
                  "text/plain": [
                     "RatecodeID\n",
                     "1.0     3256985\n",
                     "2.0      147239\n",
                     "5.0       28382\n",
                     "3.0       11636\n",
                     "99.0       9864\n",
                     "4.0        4626\n",
                     "6.0          39\n",
                     "Name: count, dtype: int64"
                  ]
               },
               "execution_count": 101,
               "metadata": {},
               "output_type": "execute_result"
            }
         ],
         "source": [
            "trips.RatecodeID.value_counts()\n"
         ]
      },
      {
         "cell_type": "code",
         "execution_count": 102,
         "metadata": {},
         "outputs": [
            {
               "data": {
                  "text/plain": [
                     "store_and_fwd_flag\n",
                     "N    3404113\n",
                     "Y      54658\n",
                     "Name: count, dtype: int64"
                  ]
               },
               "execution_count": 102,
               "metadata": {},
               "output_type": "execute_result"
            }
         ],
         "source": [
            "trips.store_and_fwd_flag.value_counts()\n"
         ]
      },
      {
         "cell_type": "code",
         "execution_count": 103,
         "metadata": {},
         "outputs": [
            {
               "data": {
                  "text/plain": [
                     "payment_type\n",
                     "1    2720127\n",
                     "2     706333\n",
                     "0     129524\n",
                     "3      16333\n",
                     "4      15978\n",
                     "Name: count, dtype: int64"
                  ]
               },
               "execution_count": 103,
               "metadata": {},
               "output_type": "execute_result"
            }
         ],
         "source": [
            "trips.payment_type.value_counts()"
         ]
      },
      {
         "cell_type": "code",
         "execution_count": 104,
         "metadata": {},
         "outputs": [
            {
               "data": {
                  "text/plain": [
                     "extra\n",
                     "0.00    1478115\n",
                     "0.50     649518\n",
                     "2.50     506543\n",
                     "1.00     441814\n",
                     "3.00     235008\n",
                     "         ...   \n",
                     "0.05          1\n",
                     "4.80          1\n",
                     "2.51          1\n",
                     "8.55          1\n",
                     "4.82          1\n",
                     "Name: count, Length: 61, dtype: int64"
                  ]
               },
               "execution_count": 104,
               "metadata": {},
               "output_type": "execute_result"
            }
         ],
         "source": [
            "trips.extra.value_counts()\n"
         ]
      },
      {
         "cell_type": "code",
         "execution_count": 105,
         "metadata": {},
         "outputs": [
            {
               "data": {
                  "text/plain": [
                     "PULocationID\n",
                     "132    175943\n",
                     "237    173547\n",
                     "236    152419\n",
                     "161    138543\n",
                     "142    120351\n",
                     "        ...  \n",
                     "105         1\n",
                     "221         1\n",
                     "84          1\n",
                     "187         1\n",
                     "199         1\n",
                     "Name: count, Length: 259, dtype: int64"
                  ]
               },
               "execution_count": 105,
               "metadata": {},
               "output_type": "execute_result"
            }
         ],
         "source": [
            "# PULocationID and DOLocationID can have 265 different values\n",
            "# refer to https://d37ci6vzurychx.cloudfront.net/misc/taxi+_zone_lookup.csv\n",
            "\n",
            "trips.PULocationID.value_counts()\n"
         ]
      },
      {
         "cell_type": "code",
         "execution_count": 106,
         "metadata": {},
         "outputs": [
            {
               "data": {
                  "text/plain": [
                     "DOLocationID\n",
                     "236    155644\n",
                     "237    150514\n",
                     "161    130893\n",
                     "230    106293\n",
                     "170    102740\n",
                     "        ...  \n",
                     "30         19\n",
                     "84         18\n",
                     "2           5\n",
                     "105         3\n",
                     "99          2\n",
                     "Name: count, Length: 261, dtype: int64"
                  ]
               },
               "execution_count": 106,
               "metadata": {},
               "output_type": "execute_result"
            }
         ],
         "source": [
            "trips.DOLocationID.value_counts()\n"
         ]
      },
      {
         "cell_type": "markdown",
         "metadata": {},
         "source": [
            "## Looking into missing values"
         ]
      },
      {
         "cell_type": "code",
         "execution_count": 107,
         "metadata": {},
         "outputs": [
            {
               "name": "stdout",
               "output_type": "stream",
               "text": [
                  "Quantity of missing values\n",
                  "passenger_count         129524\n",
                  "RatecodeID              129524\n",
                  "store_and_fwd_flag      129524\n",
                  "congestion_surcharge    129524\n",
                  "airport_fee             129524\n",
                  "dtype: int64\n",
                  "______________\n"
               ]
            },
            {
               "name": "stdout",
               "output_type": "stream",
               "text": [
                  "passenger_count         3.609625\n",
                  "RatecodeID              3.609625\n",
                  "store_and_fwd_flag      3.609625\n",
                  "congestion_surcharge    3.609625\n",
                  "airport_fee             3.609625\n",
                  "dtype: float64\n"
               ]
            }
         ],
         "source": [
            "# Print the number and percentage of missing values in each column\n",
            "nan_count = trips.isna().sum()\n",
            "nan_count = nan_count[nan_count > 0]\n",
            "\n",
            "print('Quantity of missing values')\n",
            "print(nan_count)\n",
            "print('______________')\n",
            "\n",
            "\n",
            "nan_count = (trips.isna().sum() / len(trips)) * 100\n",
            "nan_count = nan_count[nan_count > 0]\n",
            "print(nan_count)\n",
            "\n",
            "# Finding: the quantity of missing values is the same for all the columns where there is missing data\n",
            "# but they are the same rows?"
         ]
      },
      {
         "cell_type": "code",
         "execution_count": 108,
         "metadata": {},
         "outputs": [
            {
               "data": {
                  "image/png": "[encoded data removed]",
                  "text/plain": [
                     "<Figure size 1000x600 with 1 Axes>"
                  ]
               },
               "metadata": {},
               "output_type": "display_data"
            }
         ],
         "source": [
            "missing_values_percentage = (trips.isnull().sum() / len(trips)) * 100\n",
            "\n",
            "# Display the percentage of missing values\n",
            "plt.figure(figsize=(10, 6))\n",
            "sns.barplot(x=missing_values_percentage.index, y=missing_values_percentage)\n",
            "plt.title('Percentage of missing values ​​per column')\n",
            "plt.xlabel('Columns')\n",
            "plt.ylabel('Percentage of missing values')\n",
            "plt.xticks(rotation=90)\n",
            "plt.show()"
         ]
      },
      {
         "cell_type": "code",
         "execution_count": 7,
         "metadata": {},
         "outputs": [
            {
               "data": {
                  "text/html": [
                     "<div>\n",
                     "<style scoped>\n",
                     "    .dataframe tbody tr th:only-of-type {\n",
                     "        vertical-align: middle;\n",
                     "    }\n",
                     "\n",
                     "    .dataframe tbody tr th {\n",
                     "        vertical-align: top;\n",
                     "    }\n",
                     "\n",
                     "    .dataframe thead th {\n",
                     "        text-align: right;\n",
                     "    }\n",
                     "</style>\n",
                     "<table border=\"1\" class=\"dataframe\">\n",
                     "  <thead>\n",
                     "    <tr style=\"text-align: right;\">\n",
                     "      <th></th>\n",
                     "      <th>VendorID</th>\n",
                     "      <th>tpep_pickup_datetime</th>\n",
                     "      <th>tpep_dropoff_datetime</th>\n",
                     "      <th>passenger_count</th>\n",
                     "      <th>trip_distance</th>\n",
                     "      <th>RatecodeID</th>\n",
                     "      <th>store_and_fwd_flag</th>\n",
                     "      <th>PULocationID</th>\n",
                     "      <th>DOLocationID</th>\n",
                     "      <th>payment_type</th>\n",
                     "      <th>fare_amount</th>\n",
                     "      <th>extra</th>\n",
                     "      <th>mta_tax</th>\n",
                     "      <th>tip_amount</th>\n",
                     "      <th>tolls_amount</th>\n",
                     "      <th>improvement_surcharge</th>\n",
                     "      <th>total_amount</th>\n",
                     "      <th>congestion_surcharge</th>\n",
                     "      <th>airport_fee</th>\n",
                     "    </tr>\n",
                     "  </thead>\n",
                     "  <tbody>\n",
                     "    <tr>\n",
                     "      <th>3458771</th>\n",
                     "      <td>2</td>\n",
                     "      <td>2022-05-01 00:01:17</td>\n",
                     "      <td>2022-05-01 00:18:38</td>\n",
                     "      <td>NaN</td>\n",
                     "      <td>4.93</td>\n",
                     "      <td>NaN</td>\n",
                     "      <td>None</td>\n",
                     "      <td>166</td>\n",
                     "      <td>163</td>\n",
                     "      <td>0</td>\n",
                     "      <td>23.21</td>\n",
                     "      <td>0.0</td>\n",
                     "      <td>0.5</td>\n",
                     "      <td>2.94</td>\n",
                     "      <td>0.0</td>\n",
                     "      <td>0.3</td>\n",
                     "      <td>29.45</td>\n",
                     "      <td>NaN</td>\n",
                     "      <td>NaN</td>\n",
                     "    </tr>\n",
                     "    <tr>\n",
                     "      <th>3458772</th>\n",
                     "      <td>2</td>\n",
                     "      <td>2022-05-01 00:40:00</td>\n",
                     "      <td>2022-05-01 00:50:00</td>\n",
                     "      <td>NaN</td>\n",
                     "      <td>1.48</td>\n",
                     "      <td>NaN</td>\n",
                     "      <td>None</td>\n",
                     "      <td>190</td>\n",
                     "      <td>97</td>\n",
                     "      <td>0</td>\n",
                     "      <td>10.00</td>\n",
                     "      <td>0.0</td>\n",
                     "      <td>0.5</td>\n",
                     "      <td>2.38</td>\n",
                     "      <td>0.0</td>\n",
                     "      <td>0.3</td>\n",
                     "      <td>13.18</td>\n",
                     "      <td>NaN</td>\n",
                     "      <td>NaN</td>\n",
                     "    </tr>\n",
                     "    <tr>\n",
                     "      <th>3458773</th>\n",
                     "      <td>1</td>\n",
                     "      <td>2022-05-01 00:08:38</td>\n",
                     "      <td>2022-05-01 00:28:26</td>\n",
                     "      <td>NaN</td>\n",
                     "      <td>3.90</td>\n",
                     "      <td>NaN</td>\n",
                     "      <td>None</td>\n",
                     "      <td>239</td>\n",
                     "      <td>234</td>\n",
                     "      <td>0</td>\n",
                     "      <td>16.50</td>\n",
                     "      <td>0.5</td>\n",
                     "      <td>0.5</td>\n",
                     "      <td>4.06</td>\n",
                     "      <td>0.0</td>\n",
                     "      <td>0.3</td>\n",
                     "      <td>24.36</td>\n",
                     "      <td>NaN</td>\n",
                     "      <td>NaN</td>\n",
                     "    </tr>\n",
                     "    <tr>\n",
                     "      <th>3458774</th>\n",
                     "      <td>2</td>\n",
                     "      <td>2022-05-01 00:34:59</td>\n",
                     "      <td>2022-05-01 01:12:00</td>\n",
                     "      <td>NaN</td>\n",
                     "      <td>13.16</td>\n",
                     "      <td>NaN</td>\n",
                     "      <td>None</td>\n",
                     "      <td>61</td>\n",
                     "      <td>151</td>\n",
                     "      <td>0</td>\n",
                     "      <td>43.79</td>\n",
                     "      <td>0.0</td>\n",
                     "      <td>0.5</td>\n",
                     "      <td>10.53</td>\n",
                     "      <td>0.0</td>\n",
                     "      <td>0.3</td>\n",
                     "      <td>57.62</td>\n",
                     "      <td>NaN</td>\n",
                     "      <td>NaN</td>\n",
                     "    </tr>\n",
                     "    <tr>\n",
                     "      <th>3458775</th>\n",
                     "      <td>2</td>\n",
                     "      <td>2022-05-01 00:12:00</td>\n",
                     "      <td>2022-05-01 00:25:00</td>\n",
                     "      <td>NaN</td>\n",
                     "      <td>4.29</td>\n",
                     "      <td>NaN</td>\n",
                     "      <td>None</td>\n",
                     "      <td>79</td>\n",
                     "      <td>262</td>\n",
                     "      <td>0</td>\n",
                     "      <td>17.65</td>\n",
                     "      <td>0.0</td>\n",
                     "      <td>0.5</td>\n",
                     "      <td>3.00</td>\n",
                     "      <td>0.0</td>\n",
                     "      <td>0.3</td>\n",
                     "      <td>23.95</td>\n",
                     "      <td>NaN</td>\n",
                     "      <td>NaN</td>\n",
                     "    </tr>\n",
                     "  </tbody>\n",
                     "</table>\n",
                     "</div>"
                  ],
                  "text/plain": [
                     "         VendorID tpep_pickup_datetime tpep_dropoff_datetime  passenger_count   \n",
                     "3458771         2  2022-05-01 00:01:17   2022-05-01 00:18:38              NaN  \\\n",
                     "3458772         2  2022-05-01 00:40:00   2022-05-01 00:50:00              NaN   \n",
                     "3458773         1  2022-05-01 00:08:38   2022-05-01 00:28:26              NaN   \n",
                     "3458774         2  2022-05-01 00:34:59   2022-05-01 01:12:00              NaN   \n",
                     "3458775         2  2022-05-01 00:12:00   2022-05-01 00:25:00              NaN   \n",
                     "\n",
                     "         trip_distance  RatecodeID store_and_fwd_flag  PULocationID   \n",
                     "3458771           4.93         NaN               None           166  \\\n",
                     "3458772           1.48         NaN               None           190   \n",
                     "3458773           3.90         NaN               None           239   \n",
                     "3458774          13.16         NaN               None            61   \n",
                     "3458775           4.29         NaN               None            79   \n",
                     "\n",
                     "         DOLocationID  payment_type  fare_amount  extra  mta_tax  tip_amount   \n",
                     "3458771           163             0        23.21    0.0      0.5        2.94  \\\n",
                     "3458772            97             0        10.00    0.0      0.5        2.38   \n",
                     "3458773           234             0        16.50    0.5      0.5        4.06   \n",
                     "3458774           151             0        43.79    0.0      0.5       10.53   \n",
                     "3458775           262             0        17.65    0.0      0.5        3.00   \n",
                     "\n",
                     "         tolls_amount  improvement_surcharge  total_amount   \n",
                     "3458771           0.0                    0.3         29.45  \\\n",
                     "3458772           0.0                    0.3         13.18   \n",
                     "3458773           0.0                    0.3         24.36   \n",
                     "3458774           0.0                    0.3         57.62   \n",
                     "3458775           0.0                    0.3         23.95   \n",
                     "\n",
                     "         congestion_surcharge  airport_fee  \n",
                     "3458771                   NaN          NaN  \n",
                     "3458772                   NaN          NaN  \n",
                     "3458773                   NaN          NaN  \n",
                     "3458774                   NaN          NaN  \n",
                     "3458775                   NaN          NaN  "
                  ]
               },
               "execution_count": 7,
               "metadata": {},
               "output_type": "execute_result"
            }
         ],
         "source": [
            "trips_with_missing_values = trips[trips.isnull().any(axis=1)]\n",
            "trips_with_missing_values.head()\n"
         ]
      },
      {
         "cell_type": "code",
         "execution_count": 110,
         "metadata": {},
         "outputs": [
            {
               "name": "stdout",
               "output_type": "stream",
               "text": [
                  "empty_columns\n",
                  "True    129524\n",
                  "Name: count, dtype: int64\n"
               ]
            },
            {
               "name": "stderr",
               "output_type": "stream",
               "text": [
                  "C:\\Users\\Cesar_Maydana\\AppData\\Local\\Temp\\ipykernel_24788\\4283347084.py:5: SettingWithCopyWarning: \n",
                  "A value is trying to be set on a copy of a slice from a DataFrame.\n",
                  "Try using .loc[row_indexer,col_indexer] = value instead\n",
                  "\n",
                  "See the caveats in the documentation: https://pandas.pydata.org/pandas-docs/stable/user_guide/indexing.html#returning-a-view-versus-a-copy\n",
                  "  trips_with_missing_values['empty_columns'] = trips_with_missing_values[columns_to_validate].isnull().all(axis=1)\n"
               ]
            }
         ],
         "source": [
            "# Validate that empty (NaN) values ​​in multiple columns belong to the same rows\n",
            "columns_to_validate = ['passenger_count', 'RatecodeID', 'store_and_fwd_flag', 'congestion_surcharge', 'airport_fee']\n",
            "\n",
            "# Create a new column indicating whether all columns are empty in a specific row\n",
            "trips_with_missing_values['empty_columns'] = trips_with_missing_values[columns_to_validate].isnull().all(axis=1)\n",
            "\n",
            "# Check for rows where all columns are empty\n",
            "trips_with_missing_values = trips_with_missing_values[trips_with_missing_values['empty_columns'] == True]\n",
            "\n",
            "# Imprimir el numero de filas con valores vacíos en las columnas especificadas\n",
            "print(trips_with_missing_values.empty_columns.value_counts())\n",
            "\n",
            "# The number of rows with empty values in the specified columns is 129524, so we can say all \n",
            "# rows with missing values in the columns are the same"
         ]
      },
      {
         "cell_type": "code",
         "execution_count": 111,
         "metadata": {},
         "outputs": [
            {
               "name": "stdout",
               "output_type": "stream",
               "text": [
                  "payment_type\n",
                  "0    129524\n",
                  "Name: count, dtype: int64\n"
               ]
            },
            {
               "data": {
                  "text/html": [
                     "<div>\n",
                     "<style scoped>\n",
                     "    .dataframe tbody tr th:only-of-type {\n",
                     "        vertical-align: middle;\n",
                     "    }\n",
                     "\n",
                     "    .dataframe tbody tr th {\n",
                     "        vertical-align: top;\n",
                     "    }\n",
                     "\n",
                     "    .dataframe thead th {\n",
                     "        text-align: right;\n",
                     "    }\n",
                     "</style>\n",
                     "<table border=\"1\" class=\"dataframe\">\n",
                     "  <thead>\n",
                     "    <tr style=\"text-align: right;\">\n",
                     "      <th></th>\n",
                     "      <th>3458771</th>\n",
                     "      <th>3458772</th>\n",
                     "      <th>3458773</th>\n",
                     "      <th>3458774</th>\n",
                     "      <th>3458775</th>\n",
                     "    </tr>\n",
                     "  </thead>\n",
                     "  <tbody>\n",
                     "    <tr>\n",
                     "      <th>VendorID</th>\n",
                     "      <td>2</td>\n",
                     "      <td>2</td>\n",
                     "      <td>1</td>\n",
                     "      <td>2</td>\n",
                     "      <td>2</td>\n",
                     "    </tr>\n",
                     "    <tr>\n",
                     "      <th>tpep_pickup_datetime</th>\n",
                     "      <td>2022-05-01 00:01:17</td>\n",
                     "      <td>2022-05-01 00:40:00</td>\n",
                     "      <td>2022-05-01 00:08:38</td>\n",
                     "      <td>2022-05-01 00:34:59</td>\n",
                     "      <td>2022-05-01 00:12:00</td>\n",
                     "    </tr>\n",
                     "    <tr>\n",
                     "      <th>tpep_dropoff_datetime</th>\n",
                     "      <td>2022-05-01 00:18:38</td>\n",
                     "      <td>2022-05-01 00:50:00</td>\n",
                     "      <td>2022-05-01 00:28:26</td>\n",
                     "      <td>2022-05-01 01:12:00</td>\n",
                     "      <td>2022-05-01 00:25:00</td>\n",
                     "    </tr>\n",
                     "    <tr>\n",
                     "      <th>passenger_count</th>\n",
                     "      <td>NaN</td>\n",
                     "      <td>NaN</td>\n",
                     "      <td>NaN</td>\n",
                     "      <td>NaN</td>\n",
                     "      <td>NaN</td>\n",
                     "    </tr>\n",
                     "    <tr>\n",
                     "      <th>trip_distance</th>\n",
                     "      <td>4.93</td>\n",
                     "      <td>1.48</td>\n",
                     "      <td>3.9</td>\n",
                     "      <td>13.16</td>\n",
                     "      <td>4.29</td>\n",
                     "    </tr>\n",
                     "    <tr>\n",
                     "      <th>RatecodeID</th>\n",
                     "      <td>NaN</td>\n",
                     "      <td>NaN</td>\n",
                     "      <td>NaN</td>\n",
                     "      <td>NaN</td>\n",
                     "      <td>NaN</td>\n",
                     "    </tr>\n",
                     "    <tr>\n",
                     "      <th>store_and_fwd_flag</th>\n",
                     "      <td>None</td>\n",
                     "      <td>None</td>\n",
                     "      <td>None</td>\n",
                     "      <td>None</td>\n",
                     "      <td>None</td>\n",
                     "    </tr>\n",
                     "    <tr>\n",
                     "      <th>PULocationID</th>\n",
                     "      <td>166</td>\n",
                     "      <td>190</td>\n",
                     "      <td>239</td>\n",
                     "      <td>61</td>\n",
                     "      <td>79</td>\n",
                     "    </tr>\n",
                     "    <tr>\n",
                     "      <th>DOLocationID</th>\n",
                     "      <td>163</td>\n",
                     "      <td>97</td>\n",
                     "      <td>234</td>\n",
                     "      <td>151</td>\n",
                     "      <td>262</td>\n",
                     "    </tr>\n",
                     "    <tr>\n",
                     "      <th>payment_type</th>\n",
                     "      <td>0</td>\n",
                     "      <td>0</td>\n",
                     "      <td>0</td>\n",
                     "      <td>0</td>\n",
                     "      <td>0</td>\n",
                     "    </tr>\n",
                     "    <tr>\n",
                     "      <th>fare_amount</th>\n",
                     "      <td>23.21</td>\n",
                     "      <td>10.0</td>\n",
                     "      <td>16.5</td>\n",
                     "      <td>43.79</td>\n",
                     "      <td>17.65</td>\n",
                     "    </tr>\n",
                     "    <tr>\n",
                     "      <th>extra</th>\n",
                     "      <td>0.0</td>\n",
                     "      <td>0.0</td>\n",
                     "      <td>0.5</td>\n",
                     "      <td>0.0</td>\n",
                     "      <td>0.0</td>\n",
                     "    </tr>\n",
                     "    <tr>\n",
                     "      <th>mta_tax</th>\n",
                     "      <td>0.5</td>\n",
                     "      <td>0.5</td>\n",
                     "      <td>0.5</td>\n",
                     "      <td>0.5</td>\n",
                     "      <td>0.5</td>\n",
                     "    </tr>\n",
                     "    <tr>\n",
                     "      <th>tip_amount</th>\n",
                     "      <td>2.94</td>\n",
                     "      <td>2.38</td>\n",
                     "      <td>4.06</td>\n",
                     "      <td>10.53</td>\n",
                     "      <td>3.0</td>\n",
                     "    </tr>\n",
                     "    <tr>\n",
                     "      <th>tolls_amount</th>\n",
                     "      <td>0.0</td>\n",
                     "      <td>0.0</td>\n",
                     "      <td>0.0</td>\n",
                     "      <td>0.0</td>\n",
                     "      <td>0.0</td>\n",
                     "    </tr>\n",
                     "    <tr>\n",
                     "      <th>improvement_surcharge</th>\n",
                     "      <td>0.3</td>\n",
                     "      <td>0.3</td>\n",
                     "      <td>0.3</td>\n",
                     "      <td>0.3</td>\n",
                     "      <td>0.3</td>\n",
                     "    </tr>\n",
                     "    <tr>\n",
                     "      <th>total_amount</th>\n",
                     "      <td>29.45</td>\n",
                     "      <td>13.18</td>\n",
                     "      <td>24.36</td>\n",
                     "      <td>57.62</td>\n",
                     "      <td>23.95</td>\n",
                     "    </tr>\n",
                     "    <tr>\n",
                     "      <th>congestion_surcharge</th>\n",
                     "      <td>NaN</td>\n",
                     "      <td>NaN</td>\n",
                     "      <td>NaN</td>\n",
                     "      <td>NaN</td>\n",
                     "      <td>NaN</td>\n",
                     "    </tr>\n",
                     "    <tr>\n",
                     "      <th>airport_fee</th>\n",
                     "      <td>NaN</td>\n",
                     "      <td>NaN</td>\n",
                     "      <td>NaN</td>\n",
                     "      <td>NaN</td>\n",
                     "      <td>NaN</td>\n",
                     "    </tr>\n",
                     "    <tr>\n",
                     "      <th>empty_columns</th>\n",
                     "      <td>True</td>\n",
                     "      <td>True</td>\n",
                     "      <td>True</td>\n",
                     "      <td>True</td>\n",
                     "      <td>True</td>\n",
                     "    </tr>\n",
                     "  </tbody>\n",
                     "</table>\n",
                     "</div>"
                  ],
                  "text/plain": [
                     "                                   3458771              3458772   \n",
                     "VendorID                                 2                    2  \\\n",
                     "tpep_pickup_datetime   2022-05-01 00:01:17  2022-05-01 00:40:00   \n",
                     "tpep_dropoff_datetime  2022-05-01 00:18:38  2022-05-01 00:50:00   \n",
                     "passenger_count                        NaN                  NaN   \n",
                     "trip_distance                         4.93                 1.48   \n",
                     "RatecodeID                             NaN                  NaN   \n",
                     "store_and_fwd_flag                    None                 None   \n",
                     "PULocationID                           166                  190   \n",
                     "DOLocationID                           163                   97   \n",
                     "payment_type                             0                    0   \n",
                     "fare_amount                          23.21                 10.0   \n",
                     "extra                                  0.0                  0.0   \n",
                     "mta_tax                                0.5                  0.5   \n",
                     "tip_amount                            2.94                 2.38   \n",
                     "tolls_amount                           0.0                  0.0   \n",
                     "improvement_surcharge                  0.3                  0.3   \n",
                     "total_amount                         29.45                13.18   \n",
                     "congestion_surcharge                   NaN                  NaN   \n",
                     "airport_fee                            NaN                  NaN   \n",
                     "empty_columns                         True                 True   \n",
                     "\n",
                     "                                   3458773              3458774   \n",
                     "VendorID                                 1                    2  \\\n",
                     "tpep_pickup_datetime   2022-05-01 00:08:38  2022-05-01 00:34:59   \n",
                     "tpep_dropoff_datetime  2022-05-01 00:28:26  2022-05-01 01:12:00   \n",
                     "passenger_count                        NaN                  NaN   \n",
                     "trip_distance                          3.9                13.16   \n",
                     "RatecodeID                             NaN                  NaN   \n",
                     "store_and_fwd_flag                    None                 None   \n",
                     "PULocationID                           239                   61   \n",
                     "DOLocationID                           234                  151   \n",
                     "payment_type                             0                    0   \n",
                     "fare_amount                           16.5                43.79   \n",
                     "extra                                  0.5                  0.0   \n",
                     "mta_tax                                0.5                  0.5   \n",
                     "tip_amount                            4.06                10.53   \n",
                     "tolls_amount                           0.0                  0.0   \n",
                     "improvement_surcharge                  0.3                  0.3   \n",
                     "total_amount                         24.36                57.62   \n",
                     "congestion_surcharge                   NaN                  NaN   \n",
                     "airport_fee                            NaN                  NaN   \n",
                     "empty_columns                         True                 True   \n",
                     "\n",
                     "                                   3458775  \n",
                     "VendorID                                 2  \n",
                     "tpep_pickup_datetime   2022-05-01 00:12:00  \n",
                     "tpep_dropoff_datetime  2022-05-01 00:25:00  \n",
                     "passenger_count                        NaN  \n",
                     "trip_distance                         4.29  \n",
                     "RatecodeID                             NaN  \n",
                     "store_and_fwd_flag                    None  \n",
                     "PULocationID                            79  \n",
                     "DOLocationID                           262  \n",
                     "payment_type                             0  \n",
                     "fare_amount                          17.65  \n",
                     "extra                                  0.0  \n",
                     "mta_tax                                0.5  \n",
                     "tip_amount                             3.0  \n",
                     "tolls_amount                           0.0  \n",
                     "improvement_surcharge                  0.3  \n",
                     "total_amount                         23.95  \n",
                     "congestion_surcharge                   NaN  \n",
                     "airport_fee                            NaN  \n",
                     "empty_columns                         True  "
                  ]
               },
               "execution_count": 111,
               "metadata": {},
               "output_type": "execute_result"
            }
         ],
         "source": [
            "# All rows have the same value for the payment_type column, they seems to be canceled trips\n",
            "# In Documentation, payment method valid values are only from 1 to 6\n",
            "# So we can assume that the value 0 is a missing value\n",
            "\n",
            "# Also, \n",
            "print(trips_with_missing_values.payment_type.value_counts().sort_index())\n",
            "trips_with_missing_values.head(5).T"
         ]
      },
      {
         "cell_type": "code",
         "execution_count": 113,
         "metadata": {},
         "outputs": [],
         "source": [
            "trips_with_missing_values = trips_with_missing_values.dropna(subset=['passenger_count'])"
         ]
      },
      {
         "cell_type": "code",
         "execution_count": 114,
         "metadata": {},
         "outputs": [
            {
               "name": "stdout",
               "output_type": "stream",
               "text": [
                  "Series([], Name: count, dtype: int64)\n"
               ]
            },
            {
               "data": {
                  "text/html": [
                     "<div>\n",
                     "<style scoped>\n",
                     "    .dataframe tbody tr th:only-of-type {\n",
                     "        vertical-align: middle;\n",
                     "    }\n",
                     "\n",
                     "    .dataframe tbody tr th {\n",
                     "        vertical-align: top;\n",
                     "    }\n",
                     "\n",
                     "    .dataframe thead th {\n",
                     "        text-align: right;\n",
                     "    }\n",
                     "</style>\n",
                     "<table border=\"1\" class=\"dataframe\">\n",
                     "  <thead>\n",
                     "    <tr style=\"text-align: right;\">\n",
                     "      <th></th>\n",
                     "    </tr>\n",
                     "  </thead>\n",
                     "  <tbody>\n",
                     "    <tr>\n",
                     "      <th>VendorID</th>\n",
                     "    </tr>\n",
                     "    <tr>\n",
                     "      <th>tpep_pickup_datetime</th>\n",
                     "    </tr>\n",
                     "    <tr>\n",
                     "      <th>tpep_dropoff_datetime</th>\n",
                     "    </tr>\n",
                     "    <tr>\n",
                     "      <th>passenger_count</th>\n",
                     "    </tr>\n",
                     "    <tr>\n",
                     "      <th>trip_distance</th>\n",
                     "    </tr>\n",
                     "    <tr>\n",
                     "      <th>RatecodeID</th>\n",
                     "    </tr>\n",
                     "    <tr>\n",
                     "      <th>store_and_fwd_flag</th>\n",
                     "    </tr>\n",
                     "    <tr>\n",
                     "      <th>PULocationID</th>\n",
                     "    </tr>\n",
                     "    <tr>\n",
                     "      <th>DOLocationID</th>\n",
                     "    </tr>\n",
                     "    <tr>\n",
                     "      <th>payment_type</th>\n",
                     "    </tr>\n",
                     "    <tr>\n",
                     "      <th>fare_amount</th>\n",
                     "    </tr>\n",
                     "    <tr>\n",
                     "      <th>extra</th>\n",
                     "    </tr>\n",
                     "    <tr>\n",
                     "      <th>mta_tax</th>\n",
                     "    </tr>\n",
                     "    <tr>\n",
                     "      <th>tip_amount</th>\n",
                     "    </tr>\n",
                     "    <tr>\n",
                     "      <th>tolls_amount</th>\n",
                     "    </tr>\n",
                     "    <tr>\n",
                     "      <th>improvement_surcharge</th>\n",
                     "    </tr>\n",
                     "    <tr>\n",
                     "      <th>total_amount</th>\n",
                     "    </tr>\n",
                     "    <tr>\n",
                     "      <th>congestion_surcharge</th>\n",
                     "    </tr>\n",
                     "    <tr>\n",
                     "      <th>airport_fee</th>\n",
                     "    </tr>\n",
                     "    <tr>\n",
                     "      <th>empty_columns</th>\n",
                     "    </tr>\n",
                     "  </tbody>\n",
                     "</table>\n",
                     "</div>"
                  ],
                  "text/plain": [
                     "Empty DataFrame\n",
                     "Columns: []\n",
                     "Index: [VendorID, tpep_pickup_datetime, tpep_dropoff_datetime, passenger_count, trip_distance, RatecodeID, store_and_fwd_flag, PULocationID, DOLocationID, payment_type, fare_amount, extra, mta_tax, tip_amount, tolls_amount, improvement_surcharge, total_amount, congestion_surcharge, airport_fee, empty_columns]"
                  ]
               },
               "execution_count": 114,
               "metadata": {},
               "output_type": "execute_result"
            }
         ],
         "source": [
            "print(trips_with_missing_values.payment_type.value_counts().sort_index())\n",
            "trips_with_missing_values.head(5).T"
         ]
      },
      {
         "cell_type": "code",
         "execution_count": 8,
         "metadata": {},
         "outputs": [],
         "source": [
            "trips = trips.dropna(subset=['passenger_count'])"
         ]
      },
      {
         "cell_type": "code",
         "execution_count": 117,
         "metadata": {},
         "outputs": [
            {
               "name": "stdout",
               "output_type": "stream",
               "text": [
                  "Quantity of missing values\n",
                  "Series([], dtype: int64)\n",
                  "______________\n"
               ]
            },
            {
               "name": "stdout",
               "output_type": "stream",
               "text": [
                  "Series([], dtype: float64)\n"
               ]
            }
         ],
         "source": [
            "# Print the number and percentage of missing values in each column\n",
            "nan_count = trips.isna().sum()\n",
            "nan_count = nan_count[nan_count > 0]\n",
            "\n",
            "print('Quantity of missing values')\n",
            "print(nan_count)\n",
            "print('______________')\n",
            "\n",
            "\n",
            "nan_count = (trips.isna().sum() / len(trips)) * 100\n",
            "nan_count = nan_count[nan_count > 0]\n",
            "print(nan_count)\n",
            "\n",
            "# Finding: the quantity of missing values is the same for all the columns where there is missing data\n",
            "# but they are the same rows?"
         ]
      },
      {
         "cell_type": "code",
         "execution_count": 118,
         "metadata": {},
         "outputs": [
            {
               "data": {
                  "image/png": "[encoded data removed]",
                  "text/plain": [
                     "<Figure size 640x480 with 1 Axes>"
                  ]
               },
               "metadata": {},
               "output_type": "display_data"
            }
         ],
         "source": [
            "# total amount / distancia\n",
            "# $50 alrededor es por aeropuerto\n",
            "plot_hist(trips[\"fare_amount\"], title= 'Fare_Amount', xlabel='Amount', ylabel='value_Counts')"
         ]
      },
      {
         "cell_type": "code",
         "execution_count": 16,
         "metadata": {},
         "outputs": [],
         "source": [
            "from sklearn.preprocessing import MinMaxScaler, StandardScaler\n",
            "import matplotlib.pyplot as plt\n",
            "import pandas as pd\n",
            "import seaborn as sns\n",
            "import numpy as np\n",
            "\n",
            "plt.rcParams['figure.figsize'] = [10, 6]"
         ]
      },
      {
         "cell_type": "code",
         "execution_count": 10,
         "metadata": {},
         "outputs": [
            {
               "data": {
                  "image/png": "[encoded data removed]",
                  "text/plain": [
                     "<Figure size 1000x600 with 1 Axes>"
                  ]
               },
               "metadata": {},
               "output_type": "display_data"
            }
         ],
         "source": [
            "plt.figure(figsize=(10,6))  # Aumentar el tamaño del gráfico\n",
            "sns.boxplot(data=trips, x='fare_amount', color='skyblue')  # Cambiar el color del gráfico\n",
            "plt.title('Distribución de fare_amount', fontsize=20)  # Aumentar el tamaño de la fuente del título\n",
            "plt.xlabel('fare_amount', fontsize=16)  # Añadir etiqueta al eje x y aumentar el tamaño de la fuente\n",
            "plt.grid(True)  # Añadir una cuadrícula para facilitar la lectura del gráfico\n",
            "plt.show()"
         ]
      },
      {
         "cell_type": "code",
         "execution_count": 11,
         "metadata": {},
         "outputs": [],
         "source": [
            "mean = trips['fare_amount'].mean()\n",
            "std = trips['fare_amount'].std()\n",
            "\n",
            "trips['fare_amount_sigmas'] = (trips['fare_amount'] - mean) / std"
         ]
      },
      {
         "cell_type": "code",
         "execution_count": 12,
         "metadata": {},
         "outputs": [
            {
               "data": {
                  "text/plain": [
                     "VendorID                 3458771\n",
                     "tpep_pickup_datetime     3458771\n",
                     "tpep_dropoff_datetime    3458771\n",
                     "passenger_count          3458771\n",
                     "trip_distance            3458771\n",
                     "RatecodeID               3458771\n",
                     "store_and_fwd_flag       3458771\n",
                     "PULocationID             3458771\n",
                     "DOLocationID             3458771\n",
                     "payment_type             3458771\n",
                     "fare_amount              3458771\n",
                     "extra                    3458771\n",
                     "mta_tax                  3458771\n",
                     "tip_amount               3458771\n",
                     "tolls_amount             3458771\n",
                     "improvement_surcharge    3458771\n",
                     "total_amount             3458771\n",
                     "congestion_surcharge     3458771\n",
                     "airport_fee              3458771\n",
                     "fare_amount_sigmas       3458771\n",
                     "dtype: int64"
                  ]
               },
               "execution_count": 12,
               "metadata": {},
               "output_type": "execute_result"
            }
         ],
         "source": [
            "trips.count()"
         ]
      },
      {
         "cell_type": "code",
         "execution_count": 13,
         "metadata": {},
         "outputs": [
            {
               "data": {
                  "text/plain": [
                     "fare_amount_sigmas\n",
                     "-0.532823    149761\n",
                     "-0.566577    147948\n",
                     "-0.499070    147045\n",
                     " 2.505005    146751\n",
                     "-0.465316    145007\n",
                     "              ...  \n",
                     "-0.718468         1\n",
                     " 4.921766         1\n",
                     "-0.181110         1\n",
                     " 0.439282         1\n",
                     "-5.933407         1\n",
                     "Name: count, Length: 2259, dtype: int64"
                  ]
               },
               "execution_count": 13,
               "metadata": {},
               "output_type": "execute_result"
            }
         ],
         "source": [
            "trips['fare_amount_sigmas'].value_counts()"
         ]
      },
      {
         "cell_type": "code",
         "execution_count": 14,
         "metadata": {},
         "outputs": [],
         "source": [
            "trips2 = trips[\n",
            "  (trips['fare_amount_sigmas'] < 3) &\n",
            "  (trips['fare_amount_sigmas'] > -3)\n",
            "]"
         ]
      },
      {
         "cell_type": "code",
         "execution_count": 20,
         "metadata": {},
         "outputs": [
            {
               "data": {
                  "text/plain": [
                     "<Axes: xlabel='fare_amount'>"
                  ]
               },
               "execution_count": 20,
               "metadata": {},
               "output_type": "execute_result"
            },
            {
               "data": {
                  "image/png": "[encoded data removed]",
                  "text/plain": [
                     "<Figure size 1000x600 with 1 Axes>"
                  ]
               },
               "metadata": {},
               "output_type": "display_data"
            }
         ],
         "source": [
            "# total amount / distancia\n",
            "# $50 alrededor es por aeropuerto\n",
            "\n",
            "sns.boxplot(data=trips2, x='fare_amount', color='skyblue')  # Cambiar el color del gráfico"
         ]
      },
      {
         "cell_type": "code",
         "execution_count": 21,
         "metadata": {},
         "outputs": [],
         "source": [
            "trips2 = trips2[trips2['fare_amount']>0]"
         ]
      },
      {
         "cell_type": "code",
         "execution_count": 23,
         "metadata": {},
         "outputs": [
            {
               "data": {
                  "text/plain": [
                     "<Axes: xlabel='fare_amount'>"
                  ]
               },
               "execution_count": 23,
               "metadata": {},
               "output_type": "execute_result"
            },
            {
               "data": {
                  "image/png": "[encoded data removed]",
                  "text/plain": [
                     "<Figure size 1000x600 with 1 Axes>"
                  ]
               },
               "metadata": {},
               "output_type": "display_data"
            }
         ],
         "source": [
            "sns.boxplot(data=trips2, x='fare_amount', color='skyblue')  # Cambiar el color del gráfico"
         ]
      },
      {
         "cell_type": "code",
         "execution_count": 24,
         "metadata": {},
         "outputs": [
            {
               "data": {
                  "text/plain": [
                     "VendorID                 3399862\n",
                     "tpep_pickup_datetime     3399862\n",
                     "tpep_dropoff_datetime    3399862\n",
                     "passenger_count          3399862\n",
                     "trip_distance            3399862\n",
                     "RatecodeID               3399862\n",
                     "store_and_fwd_flag       3399862\n",
                     "PULocationID             3399862\n",
                     "DOLocationID             3399862\n",
                     "payment_type             3399862\n",
                     "fare_amount              3399862\n",
                     "extra                    3399862\n",
                     "mta_tax                  3399862\n",
                     "tip_amount               3399862\n",
                     "tolls_amount             3399862\n",
                     "improvement_surcharge    3399862\n",
                     "total_amount             3399862\n",
                     "congestion_surcharge     3399862\n",
                     "airport_fee              3399862\n",
                     "fare_amount_sigmas       3399862\n",
                     "dtype: int64"
                  ]
               },
               "execution_count": 24,
               "metadata": {},
               "output_type": "execute_result"
            }
         ],
         "source": [
            "trips2.count()"
         ]
      },
      {
         "cell_type": "code",
         "execution_count": 25,
         "metadata": {},
         "outputs": [
            {
               "data": {
                  "text/plain": [
                     "trip_distance\n",
                     "1.00     48924\n",
                     "1.10     48164\n",
                     "0.90     47922\n",
                     "1.20     47413\n",
                     "1.30     46209\n",
                     "         ...  \n",
                     "39.20        1\n",
                     "32.72        1\n",
                     "44.50        1\n",
                     "29.39        1\n",
                     "29.62        1\n",
                     "Name: count, Length: 3198, dtype: int64"
                  ]
               },
               "execution_count": 25,
               "metadata": {},
               "output_type": "execute_result"
            }
         ],
         "source": [
            "trips2[\"trip_distance\"].value_counts()"
         ]
      },
      {
         "cell_type": "code",
         "execution_count": 27,
         "metadata": {},
         "outputs": [
            {
               "data": {
                  "image/png": "[encoded data removed]",
                  "text/plain": [
                     "<Figure size 1000x600 with 1 Axes>"
                  ]
               },
               "metadata": {},
               "output_type": "display_data"
            }
         ],
         "source": [
            "sns.boxplot(data=trips2, x='trip_distance').set_title('trip_distance')\n",
            "plt.show()"
         ]
      },
      {
         "cell_type": "code",
         "execution_count": 28,
         "metadata": {},
         "outputs": [
            {
               "name": "stdout",
               "output_type": "stream",
               "text": [
                  "0.0\n",
                  "14.4\n"
               ]
            },
            {
               "data": {
                  "text/plain": [
                     "<Axes: xlabel='trip_distance'>"
                  ]
               },
               "execution_count": 28,
               "metadata": {},
               "output_type": "execute_result"
            },
            {
               "data": {
                  "image/png": "[encoded data removed]",
                  "text/plain": [
                     "<Figure size 1000x600 with 1 Axes>"
                  ]
               },
               "metadata": {},
               "output_type": "display_data"
            }
         ],
         "source": [
            "# Calcular el IQR\n",
            "Q1 = np.percentile(trips2['trip_distance'], 0)\n",
            "print(Q1)\n",
            "Q3 = np.percentile(trips2['trip_distance'], 95)\n",
            "print(Q3)\n",
            "IQR = Q3 - Q1\n",
            "\n",
            "# Definir un factor mayor para incluir más datos\n",
            "factor = 1.5\n",
            "\n",
            "# Filtrar los valores dentro del rango ampliado\n",
            "filtered_trips = trips2[(trips2['trip_distance'] >= Q1 - factor * IQR) & (trips2['trip_distance'] <= Q3 + factor * IQR)]\n",
            "\n",
            "# Crear el boxplot con los datos filtrados\n",
            "sns.boxplot(x=filtered_trips['trip_distance'])"
         ]
      },
      {
         "cell_type": "code",
         "execution_count": 29,
         "metadata": {},
         "outputs": [
            {
               "data": {
                  "text/plain": [
                     "(3399773, 20)"
                  ]
               },
               "execution_count": 29,
               "metadata": {},
               "output_type": "execute_result"
            }
         ],
         "source": [
            "filtered_trips.shape"
         ]
      },
      {
         "cell_type": "code",
         "execution_count": 30,
         "metadata": {},
         "outputs": [
            {
               "data": {
                  "text/plain": [
                     "VendorID                 0\n",
                     "tpep_pickup_datetime     0\n",
                     "tpep_dropoff_datetime    0\n",
                     "passenger_count          0\n",
                     "trip_distance            0\n",
                     "RatecodeID               0\n",
                     "store_and_fwd_flag       0\n",
                     "PULocationID             0\n",
                     "DOLocationID             0\n",
                     "payment_type             0\n",
                     "fare_amount              0\n",
                     "extra                    0\n",
                     "mta_tax                  0\n",
                     "tip_amount               0\n",
                     "tolls_amount             0\n",
                     "improvement_surcharge    0\n",
                     "total_amount             0\n",
                     "congestion_surcharge     0\n",
                     "airport_fee              0\n",
                     "fare_amount_sigmas       0\n",
                     "dtype: int64"
                  ]
               },
               "execution_count": 30,
               "metadata": {},
               "output_type": "execute_result"
            }
         ],
         "source": [
            "filtered_trips.isnull().sum()"
         ]
      },
      {
         "cell_type": "code",
         "execution_count": 121,
         "metadata": {},
         "outputs": [],
         "source": [
            "# buscamos concentracion de datos, debido a que los graficos anteriores no arrojan informacion suficiente."
         ]
      },
      {
         "cell_type": "code",
         "execution_count": 31,
         "metadata": {},
         "outputs": [
            {
               "data": {
                  "text/plain": [
                     "<Axes: xlabel='trip_distance', ylabel='total_amount'>"
                  ]
               },
               "execution_count": 31,
               "metadata": {},
               "output_type": "execute_result"
            },
            {
               "data": {
                  "image/png": "[encoded data removed]",
                  "text/plain": [
                     "<Figure size 1000x600 with 1 Axes>"
                  ]
               },
               "metadata": {},
               "output_type": "display_data"
            }
         ],
         "source": [
            "filtered_trips.plot.scatter('trip_distance', 'total_amount')"
         ]
      },
      {
         "cell_type": "code",
         "execution_count": 36,
         "metadata": {},
         "outputs": [
            {
               "ename": "KeyError",
               "evalue": "'RatecodeID'",
               "output_type": "error",
               "traceback": [
                  "\u001b[1;31m---------------------------------------------------------------------------\u001b[0m",
                  "\u001b[1;31mKeyError\u001b[0m                                  Traceback (most recent call last)",
                  "File \u001b[1;32mc:\\Anyone\\repos\\Finall_project\\env\\Lib\\site-packages\\pandas\\core\\indexes\\base.py:3652\u001b[0m, in \u001b[0;36mIndex.get_loc\u001b[1;34m(self, key)\u001b[0m\n\u001b[0;32m   3651\u001b[0m \u001b[38;5;28;01mtry\u001b[39;00m:\n\u001b[1;32m-> 3652\u001b[0m     \u001b[38;5;28;01mreturn\u001b[39;00m \u001b[38;5;28;43mself\u001b[39;49m\u001b[38;5;241;43m.\u001b[39;49m\u001b[43m_engine\u001b[49m\u001b[38;5;241;43m.\u001b[39;49m\u001b[43mget_loc\u001b[49m\u001b[43m(\u001b[49m\u001b[43mcasted_key\u001b[49m\u001b[43m)\u001b[49m\n\u001b[0;32m   3653\u001b[0m \u001b[38;5;28;01mexcept\u001b[39;00m \u001b[38;5;167;01mKeyError\u001b[39;00m \u001b[38;5;28;01mas\u001b[39;00m err:\n",
                  "File \u001b[1;32mc:\\Anyone\\repos\\Finall_project\\env\\Lib\\site-packages\\pandas\\_libs\\index.pyx:147\u001b[0m, in \u001b[0;36mpandas._libs.index.IndexEngine.get_loc\u001b[1;34m()\u001b[0m\n",
                  "File \u001b[1;32mc:\\Anyone\\repos\\Finall_project\\env\\Lib\\site-packages\\pandas\\_libs\\index.pyx:155\u001b[0m, in \u001b[0;36mpandas._libs.index.IndexEngine.get_loc\u001b[1;34m()\u001b[0m\n",
                  "File \u001b[1;32mpandas\\_libs\\index_class_helper.pxi:70\u001b[0m, in \u001b[0;36mpandas._libs.index.Int64Engine._check_type\u001b[1;34m()\u001b[0m\n",
                  "\u001b[1;31mKeyError\u001b[0m: 'RatecodeID'",
                  "\nThe above exception was the direct cause of the following exception:\n",
                  "\u001b[1;31mKeyError\u001b[0m                                  Traceback (most recent call last)",
                  "Cell \u001b[1;32mIn[36], line 1\u001b[0m\n\u001b[1;32m----> 1\u001b[0m \u001b[43mfiltered_trips\u001b[49m\u001b[43m[\u001b[49m\u001b[38;5;124;43m\"\u001b[39;49m\u001b[38;5;124;43mRatecodeID\u001b[39;49m\u001b[38;5;124;43m\"\u001b[39;49m\u001b[43m]\u001b[49m\u001b[38;5;241m.\u001b[39mvalue_counts()\n",
                  "File \u001b[1;32mc:\\Anyone\\repos\\Finall_project\\env\\Lib\\site-packages\\pandas\\core\\series.py:1012\u001b[0m, in \u001b[0;36mSeries.__getitem__\u001b[1;34m(self, key)\u001b[0m\n\u001b[0;32m   1009\u001b[0m     \u001b[38;5;28;01mreturn\u001b[39;00m \u001b[38;5;28mself\u001b[39m\u001b[38;5;241m.\u001b[39m_values[key]\n\u001b[0;32m   1011\u001b[0m \u001b[38;5;28;01melif\u001b[39;00m key_is_scalar:\n\u001b[1;32m-> 1012\u001b[0m     \u001b[38;5;28;01mreturn\u001b[39;00m \u001b[38;5;28;43mself\u001b[39;49m\u001b[38;5;241;43m.\u001b[39;49m\u001b[43m_get_value\u001b[49m\u001b[43m(\u001b[49m\u001b[43mkey\u001b[49m\u001b[43m)\u001b[49m\n\u001b[0;32m   1014\u001b[0m \u001b[38;5;28;01mif\u001b[39;00m is_hashable(key):\n\u001b[0;32m   1015\u001b[0m     \u001b[38;5;66;03m# Otherwise index.get_value will raise InvalidIndexError\u001b[39;00m\n\u001b[0;32m   1016\u001b[0m     \u001b[38;5;28;01mtry\u001b[39;00m:\n\u001b[0;32m   1017\u001b[0m         \u001b[38;5;66;03m# For labels that don't resolve as scalars like tuples and frozensets\u001b[39;00m\n",
                  "File \u001b[1;32mc:\\Anyone\\repos\\Finall_project\\env\\Lib\\site-packages\\pandas\\core\\series.py:1121\u001b[0m, in \u001b[0;36mSeries._get_value\u001b[1;34m(self, label, takeable)\u001b[0m\n\u001b[0;32m   1118\u001b[0m     \u001b[38;5;28;01mreturn\u001b[39;00m \u001b[38;5;28mself\u001b[39m\u001b[38;5;241m.\u001b[39m_values[label]\n\u001b[0;32m   1120\u001b[0m \u001b[38;5;66;03m# Similar to Index.get_value, but we do not fall back to positional\u001b[39;00m\n\u001b[1;32m-> 1121\u001b[0m loc \u001b[38;5;241m=\u001b[39m \u001b[38;5;28;43mself\u001b[39;49m\u001b[38;5;241;43m.\u001b[39;49m\u001b[43mindex\u001b[49m\u001b[38;5;241;43m.\u001b[39;49m\u001b[43mget_loc\u001b[49m\u001b[43m(\u001b[49m\u001b[43mlabel\u001b[49m\u001b[43m)\u001b[49m\n\u001b[0;32m   1123\u001b[0m \u001b[38;5;28;01mif\u001b[39;00m is_integer(loc):\n\u001b[0;32m   1124\u001b[0m     \u001b[38;5;28;01mreturn\u001b[39;00m \u001b[38;5;28mself\u001b[39m\u001b[38;5;241m.\u001b[39m_values[loc]\n",
                  "File \u001b[1;32mc:\\Anyone\\repos\\Finall_project\\env\\Lib\\site-packages\\pandas\\core\\indexes\\base.py:3654\u001b[0m, in \u001b[0;36mIndex.get_loc\u001b[1;34m(self, key)\u001b[0m\n\u001b[0;32m   3652\u001b[0m     \u001b[38;5;28;01mreturn\u001b[39;00m \u001b[38;5;28mself\u001b[39m\u001b[38;5;241m.\u001b[39m_engine\u001b[38;5;241m.\u001b[39mget_loc(casted_key)\n\u001b[0;32m   3653\u001b[0m \u001b[38;5;28;01mexcept\u001b[39;00m \u001b[38;5;167;01mKeyError\u001b[39;00m \u001b[38;5;28;01mas\u001b[39;00m err:\n\u001b[1;32m-> 3654\u001b[0m     \u001b[38;5;28;01mraise\u001b[39;00m \u001b[38;5;167;01mKeyError\u001b[39;00m(key) \u001b[38;5;28;01mfrom\u001b[39;00m \u001b[38;5;21;01merr\u001b[39;00m\n\u001b[0;32m   3655\u001b[0m \u001b[38;5;28;01mexcept\u001b[39;00m \u001b[38;5;167;01mTypeError\u001b[39;00m:\n\u001b[0;32m   3656\u001b[0m     \u001b[38;5;66;03m# If we have a listlike key, _check_indexing_error will raise\u001b[39;00m\n\u001b[0;32m   3657\u001b[0m     \u001b[38;5;66;03m#  InvalidIndexError. Otherwise we fall through and re-raise\u001b[39;00m\n\u001b[0;32m   3658\u001b[0m     \u001b[38;5;66;03m#  the TypeError.\u001b[39;00m\n\u001b[0;32m   3659\u001b[0m     \u001b[38;5;28mself\u001b[39m\u001b[38;5;241m.\u001b[39m_check_indexing_error(key)\n",
                  "\u001b[1;31mKeyError\u001b[0m: 'RatecodeID'"
               ]
            }
         ],
         "source": [
            "filtered_trips[\"RatecodeID\"].value_counts()"
         ]
      },
      {
         "cell_type": "code",
         "execution_count": 33,
         "metadata": {},
         "outputs": [],
         "source": [
            "filtered_trips=filtered_trips[\"RatecodeID\"] <= 6"
         ]
      },
      {
         "cell_type": "code",
         "execution_count": 34,
         "metadata": {},
         "outputs": [
            {
               "ename": "KeyError",
               "evalue": "'RatecodeID'",
               "output_type": "error",
               "traceback": [
                  "\u001b[1;31m---------------------------------------------------------------------------\u001b[0m",
                  "\u001b[1;31mKeyError\u001b[0m                                  Traceback (most recent call last)",
                  "File \u001b[1;32mc:\\Anyone\\repos\\Finall_project\\env\\Lib\\site-packages\\pandas\\core\\indexes\\base.py:3652\u001b[0m, in \u001b[0;36mIndex.get_loc\u001b[1;34m(self, key)\u001b[0m\n\u001b[0;32m   3651\u001b[0m \u001b[38;5;28;01mtry\u001b[39;00m:\n\u001b[1;32m-> 3652\u001b[0m     \u001b[38;5;28;01mreturn\u001b[39;00m \u001b[38;5;28;43mself\u001b[39;49m\u001b[38;5;241;43m.\u001b[39;49m\u001b[43m_engine\u001b[49m\u001b[38;5;241;43m.\u001b[39;49m\u001b[43mget_loc\u001b[49m\u001b[43m(\u001b[49m\u001b[43mcasted_key\u001b[49m\u001b[43m)\u001b[49m\n\u001b[0;32m   3653\u001b[0m \u001b[38;5;28;01mexcept\u001b[39;00m \u001b[38;5;167;01mKeyError\u001b[39;00m \u001b[38;5;28;01mas\u001b[39;00m err:\n",
                  "File \u001b[1;32mc:\\Anyone\\repos\\Finall_project\\env\\Lib\\site-packages\\pandas\\_libs\\index.pyx:147\u001b[0m, in \u001b[0;36mpandas._libs.index.IndexEngine.get_loc\u001b[1;34m()\u001b[0m\n",
                  "File \u001b[1;32mc:\\Anyone\\repos\\Finall_project\\env\\Lib\\site-packages\\pandas\\_libs\\index.pyx:155\u001b[0m, in \u001b[0;36mpandas._libs.index.IndexEngine.get_loc\u001b[1;34m()\u001b[0m\n",
                  "File \u001b[1;32mpandas\\_libs\\index_class_helper.pxi:70\u001b[0m, in \u001b[0;36mpandas._libs.index.Int64Engine._check_type\u001b[1;34m()\u001b[0m\n",
                  "\u001b[1;31mKeyError\u001b[0m: 'RatecodeID'",
                  "\nThe above exception was the direct cause of the following exception:\n",
                  "\u001b[1;31mKeyError\u001b[0m                                  Traceback (most recent call last)",
                  "Cell \u001b[1;32mIn[34], line 1\u001b[0m\n\u001b[1;32m----> 1\u001b[0m \u001b[43mfiltered_trips\u001b[49m\u001b[43m[\u001b[49m\u001b[38;5;124;43m\"\u001b[39;49m\u001b[38;5;124;43mRatecodeID\u001b[39;49m\u001b[38;5;124;43m\"\u001b[39;49m\u001b[43m]\u001b[49m\u001b[38;5;241m.\u001b[39mvalue_counts()\n",
                  "File \u001b[1;32mc:\\Anyone\\repos\\Finall_project\\env\\Lib\\site-packages\\pandas\\core\\series.py:1012\u001b[0m, in \u001b[0;36mSeries.__getitem__\u001b[1;34m(self, key)\u001b[0m\n\u001b[0;32m   1009\u001b[0m     \u001b[38;5;28;01mreturn\u001b[39;00m \u001b[38;5;28mself\u001b[39m\u001b[38;5;241m.\u001b[39m_values[key]\n\u001b[0;32m   1011\u001b[0m \u001b[38;5;28;01melif\u001b[39;00m key_is_scalar:\n\u001b[1;32m-> 1012\u001b[0m     \u001b[38;5;28;01mreturn\u001b[39;00m \u001b[38;5;28;43mself\u001b[39;49m\u001b[38;5;241;43m.\u001b[39;49m\u001b[43m_get_value\u001b[49m\u001b[43m(\u001b[49m\u001b[43mkey\u001b[49m\u001b[43m)\u001b[49m\n\u001b[0;32m   1014\u001b[0m \u001b[38;5;28;01mif\u001b[39;00m is_hashable(key):\n\u001b[0;32m   1015\u001b[0m     \u001b[38;5;66;03m# Otherwise index.get_value will raise InvalidIndexError\u001b[39;00m\n\u001b[0;32m   1016\u001b[0m     \u001b[38;5;28;01mtry\u001b[39;00m:\n\u001b[0;32m   1017\u001b[0m         \u001b[38;5;66;03m# For labels that don't resolve as scalars like tuples and frozensets\u001b[39;00m\n",
                  "File \u001b[1;32mc:\\Anyone\\repos\\Finall_project\\env\\Lib\\site-packages\\pandas\\core\\series.py:1121\u001b[0m, in \u001b[0;36mSeries._get_value\u001b[1;34m(self, label, takeable)\u001b[0m\n\u001b[0;32m   1118\u001b[0m     \u001b[38;5;28;01mreturn\u001b[39;00m \u001b[38;5;28mself\u001b[39m\u001b[38;5;241m.\u001b[39m_values[label]\n\u001b[0;32m   1120\u001b[0m \u001b[38;5;66;03m# Similar to Index.get_value, but we do not fall back to positional\u001b[39;00m\n\u001b[1;32m-> 1121\u001b[0m loc \u001b[38;5;241m=\u001b[39m \u001b[38;5;28;43mself\u001b[39;49m\u001b[38;5;241;43m.\u001b[39;49m\u001b[43mindex\u001b[49m\u001b[38;5;241;43m.\u001b[39;49m\u001b[43mget_loc\u001b[49m\u001b[43m(\u001b[49m\u001b[43mlabel\u001b[49m\u001b[43m)\u001b[49m\n\u001b[0;32m   1123\u001b[0m \u001b[38;5;28;01mif\u001b[39;00m is_integer(loc):\n\u001b[0;32m   1124\u001b[0m     \u001b[38;5;28;01mreturn\u001b[39;00m \u001b[38;5;28mself\u001b[39m\u001b[38;5;241m.\u001b[39m_values[loc]\n",
                  "File \u001b[1;32mc:\\Anyone\\repos\\Finall_project\\env\\Lib\\site-packages\\pandas\\core\\indexes\\base.py:3654\u001b[0m, in \u001b[0;36mIndex.get_loc\u001b[1;34m(self, key)\u001b[0m\n\u001b[0;32m   3652\u001b[0m     \u001b[38;5;28;01mreturn\u001b[39;00m \u001b[38;5;28mself\u001b[39m\u001b[38;5;241m.\u001b[39m_engine\u001b[38;5;241m.\u001b[39mget_loc(casted_key)\n\u001b[0;32m   3653\u001b[0m \u001b[38;5;28;01mexcept\u001b[39;00m \u001b[38;5;167;01mKeyError\u001b[39;00m \u001b[38;5;28;01mas\u001b[39;00m err:\n\u001b[1;32m-> 3654\u001b[0m     \u001b[38;5;28;01mraise\u001b[39;00m \u001b[38;5;167;01mKeyError\u001b[39;00m(key) \u001b[38;5;28;01mfrom\u001b[39;00m \u001b[38;5;21;01merr\u001b[39;00m\n\u001b[0;32m   3655\u001b[0m \u001b[38;5;28;01mexcept\u001b[39;00m \u001b[38;5;167;01mTypeError\u001b[39;00m:\n\u001b[0;32m   3656\u001b[0m     \u001b[38;5;66;03m# If we have a listlike key, _check_indexing_error will raise\u001b[39;00m\n\u001b[0;32m   3657\u001b[0m     \u001b[38;5;66;03m#  InvalidIndexError. Otherwise we fall through and re-raise\u001b[39;00m\n\u001b[0;32m   3658\u001b[0m     \u001b[38;5;66;03m#  the TypeError.\u001b[39;00m\n\u001b[0;32m   3659\u001b[0m     \u001b[38;5;28mself\u001b[39m\u001b[38;5;241m.\u001b[39m_check_indexing_error(key)\n",
                  "\u001b[1;31mKeyError\u001b[0m: 'RatecodeID'"
               ]
            }
         ],
         "source": [
            "filtered_trips[\"RatecodeID\"].value_counts()"
         ]
      },
      {
         "cell_type": "code",
         "execution_count": null,
         "metadata": {},
         "outputs": [],
         "source": [
            "filtered_trips=filtered_trips[pickup_year]==2022"
         ]
      }
   ],
   "metadata": {
      "kernelspec": {
         "display_name": "finalprojectenv",
         "language": "python",
         "name": "python3"
      },
      "language_info": {
         "codemirror_mode": {
            "name": "ipython",
            "version": 3
         },
         "file_extension": ".py",
         "mimetype": "text/x-python",
         "name": "python",
         "nbconvert_exporter": "python",
         "pygments_lexer": "ipython3",
         "version": "3.11.7"
      },
      "vscode": {
         "interpreter": {
            "hash": "5efa683b5b1ae7e8e11b6b316072de2b1afb735b3660bedb7c7a61c7b9dc51db"
         }
      }
   },
   "nbformat": 4,
   "nbformat_minor": 2
}
